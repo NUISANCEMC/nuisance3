{
 "cells": [
  {
   "cell_type": "markdown",
   "id": "5096d3b5-e4e7-445f-8ed2-89fd57b286b7",
   "metadata": {},
   "source": [
    "The purpose of this notebook is to demonstrate how a relatively simple analysis can be run on events generated with metadata queried for the analysis object itself, thus illustrating the building blocks of fully atomatic cross-section comparisons.\n",
    "\n",
    "### Load a HEPData Record\n",
    "\n",
    "We can either load a record via the path of a `submission.yaml` file or via a 'Resource Reference'.\n",
    "\n",
    "#### Load via Path\n",
    "\n",
    "First, lets confirm where the local submission file is on disk."
   ]
  },
  {
   "cell_type": "code",
   "execution_count": 1,
   "id": "97e24039-b1c7-4e58-9097-0290cf248764",
   "metadata": {},
   "outputs": [
    {
     "name": "stdout",
     "output_type": "stream",
     "text": [
      "-rw-r--r-- 1 root root 5657 Sep 28 11:31 /root/software/NUISANCEMC/neutrino_data/data/MicroBooNE/PRD.109.092007/submission-2709091/submission.yaml\n"
     ]
    }
   ],
   "source": [
    "%%bash\n",
    "ls -l /root/software/NUISANCEMC/neutrino_data/data/MicroBooNE/PRD.109.092007/submission-2709091/submission.yaml"
   ]
  },
  {
   "cell_type": "markdown",
   "id": "1db20fc4-eae7-4259-bcf6-7e1ebd83fa36",
   "metadata": {},
   "source": [
    "We can try and load this record with the NUISANCE RecordFactory"
   ]
  },
  {
   "cell_type": "code",
   "execution_count": 2,
   "id": "cfbd48a6-f3e7-4dbc-b3c4-ff114b3a2d41",
   "metadata": {},
   "outputs": [
    {
     "name": "stdout",
     "output_type": "stream",
     "text": [
      "Welcome to JupyROOT 6.30/04\n"
     ]
    }
   ],
   "source": [
    "import pyNUISANCE as pn\n",
    "\n",
    "rf = pn.RecordFactory()\n",
    "hepdata_rec = rf.make_record({\"type\":\"hepdata\",\n",
    "    \"recordpath\":\"/root/software/NUISANCEMC/neutrino_data/data/MicroBooNE/PRD.109.092007/submission-2709091/submission.yaml\"})"
   ]
  },
  {
   "cell_type": "markdown",
   "id": "1776bb95-2dc0-47f4-a88d-609219353c39",
   "metadata": {},
   "source": [
    "and then we can take a look at what analyses are defined within that record:"
   ]
  },
  {
   "cell_type": "code",
   "execution_count": 3,
   "id": "6198f3cd-d0c6-4bf1-bc92-7f864b8babc9",
   "metadata": {},
   "outputs": [
    {
     "name": "stdout",
     "output_type": "stream",
     "text": [
      "['cross_section-deltapn', 'cross_section-deltaalpha3dq', 'cross_section-deltaphi3d', 'cross_section-deltapnpar', 'cross_section-deltapnperp', 'cross_section-deltapnperpx', 'cross_section-deltapnperpy', 'cross_section-serialdeltapn_deltaalpha3dq', 'cross_section-serialdeltaalpha3dq_deltapn']\n"
     ]
    }
   ],
   "source": [
    "print(hepdata_rec.get_analyses())"
   ]
  },
  {
   "cell_type": "markdown",
   "id": "47c62a2a-e3f8-4f86-a9bb-78c88ad4ba6b",
   "metadata": {},
   "source": [
    "This method is very useful for a tighter debugging loop while building and testing submissions as it removes the need to adhere to a strict filesystem structure on disk or constant reuploading/downloading of submissions to the hepdata sandbox.\n",
    "\n",
    "#### Load via Resource Reference\n",
    "\n",
    "A resource reference is of the form `[<type=hepdata>:][<id>][[/]<resource[:<qualifier>]>]` (see [Resource References](https://github.com/NUISANCEMC/HEPData?tab=readme-ov-file#resource-references) for more details).\n",
    "\n",
    "We need to make sure that the environment variable `NUISANCEDB` is set such that the resource reference can resolve locally without trying to pull the file down from HEPData, because the record has not yet been uploaded to HEPData."
   ]
  },
  {
   "cell_type": "code",
   "execution_count": 4,
   "id": "fd368824-1585-46eb-a56f-129a272b7bf5",
   "metadata": {},
   "outputs": [
    {
     "name": "stdout",
     "output_type": "stream",
     "text": [
      "\u001b[0m\u001b[01;36m1198020\u001b[0m@  \u001b[01;36m1343108\u001b[0m@  \u001b[01;36m2638628\u001b[0m@  \u001b[01;36m2646102\u001b[0m@  \u001b[01;36m2709091\u001b[0m@  \u001b[01;36m999999\u001b[0m@\n"
     ]
    }
   ],
   "source": [
    "import os\n",
    "\n",
    "#set the nuisance local store environment variable\n",
    "os.environ[\"NUISANCEDB\"] = \"/root/software/NUISANCEMC/neutrino_data/local_store\"\n",
    "%ls  /root/software/NUISANCEMC/neutrino_data/local_store/INSPIREHEP"
   ]
  },
  {
   "cell_type": "markdown",
   "id": "e67ec78e-22e8-4bf8-8ce1-59b77e6348e8",
   "metadata": {},
   "source": [
    "So we have local copies of these INSPIREHEP Ids, the one for the record of interest is: `2709091`, so we can use the `inspirehep:2709091v1` to reference the record.\n",
    "\n",
    "This might seem quite clunky, but that is only because we are trying to load a record that we have a local copy of but does not exist in the remote repository yet. For local development, the path-style reference described above is a lot more ergonomic."
   ]
  },
  {
   "cell_type": "code",
   "execution_count": 23,
   "id": "9a066be0-a7b3-4104-8ad5-66d4a2f286a9",
   "metadata": {},
   "outputs": [
    {
     "name": "stdout",
     "output_type": "stream",
     "text": [
      "['cross_section-deltapn', 'cross_section-deltaalpha3dq', 'cross_section-deltaphi3d', 'cross_section-deltapnpar', 'cross_section-deltapnperp', 'cross_section-deltapnperpx', 'cross_section-deltapnperpy', 'cross_section-serialdeltapn_deltaalpha3dq', 'cross_section-serialdeltaalpha3dq_deltapn']\n"
     ]
    }
   ],
   "source": [
    "hepdata_rec = rf.make_record({\"type\":\"hepdata\",\"recordref\":\"inspirehep:2709091v1\"})\n",
    "print(hepdata_rec.get_analyses())"
   ]
  },
  {
   "cell_type": "markdown",
   "id": "b6f2cb86-bb7a-47a6-822d-052a0870de2c",
   "metadata": {},
   "source": [
    "So you can see it has been loaded successfully and produces the same result!\n",
    "\n",
    "### Running an Analysis\n",
    "\n",
    "So now we would like to run an analysis from this record, lets start with the `cross_section-pn` analysis"
   ]
  },
  {
   "cell_type": "code",
   "execution_count": 6,
   "id": "6fbf02f2-2cf8-44f8-8d7b-c86c9a159889",
   "metadata": {},
   "outputs": [],
   "source": [
    "ana = hepdata_rec.analysis(\"cross_section-deltapnperpx\")"
   ]
  },
  {
   "cell_type": "markdown",
   "id": "5c3e0329-0e15-4651-97c0-83d8b8a96255",
   "metadata": {},
   "source": [
    "So that loaded successfully. We can query a few things from the high-level analysis interface, but the first thing we need to do is throw some appropriate events.\n",
    "\n",
    "#### Generating a Prediction\n",
    "\n",
    "The two main bits of information we need to throw some events are the neutrino probe energy spectrum and species, and the target material. First we will query the flux.\n",
    "\n",
    "Different generators expect the flux spectrum in a slightly different format: some treat the value of the spectrum within a bin to correspond to the number of neutrinos in that energy range, and some treat it as the number density of neutrinos in that energy range. We can get the flux in either format with a switch, demonstrated below. For a uniformly binned flux, the choice factorises as a normalization and shouldn't matter for event generation."
   ]
  },
  {
   "cell_type": "code",
   "execution_count": 7,
   "id": "9cbdd683-4b18-4e2c-917e-1b24f4062a7d",
   "metadata": {},
   "outputs": [
    {
     "data": {
      "image/png": "[encoded data removed]",
      "text/plain": [
       "<Figure size 800x400 with 2 Axes>"
      ]
     },
     "metadata": {},
     "output_type": "display_data"
    }
   ],
   "source": [
    "import matplotlib.pyplot as plt\n",
    "\n",
    "probe_part, probe_flux_count = ana.get_probe_flux(False)\n",
    "_, probe_flux_count_density = ana.get_probe_flux(True)\n",
    "\n",
    "fig, axes = plt.subplots(1,2, figsize=(8,4))\n",
    "\n",
    "probe_flux_count.mpl().hist(histtype=\"step\",plot_axis=axes[0])\n",
    "probe_flux_count_density.mpl().hist(histtype=\"step\",plot_axis=axes[1])\n",
    "\n",
    "plt.show()"
   ]
  },
  {
   "cell_type": "markdown",
   "id": "3a2dbd20-21f1-47ae-a7be-20591f570717",
   "metadata": {},
   "source": [
    "Most generators expect flux distributions in the form of root histograms, rather than HEPData yaml tables, so lets save both formats to a local file."
   ]
  },
  {
   "cell_type": "code",
   "execution_count": 8,
   "id": "2390f644-180f-4535-be35-d7abc09b71ac",
   "metadata": {},
   "outputs": [],
   "source": [
    "pn.convert.ROOT.write_TH1(\"flux_for_inspirehep_2709091v1.root\",\n",
    "                          \"flux_count\", probe_flux_count,False,\"RECREATE\")\n",
    "pn.convert.ROOT.write_TH1(\"flux_for_inspirehep_2709091v1.root\",\n",
    "                          \"flux_count_density\", probe_flux_count_density,False,\"UPDATE\")"
   ]
  },
  {
   "cell_type": "markdown",
   "id": "f5fc0908-74e5-4ab4-ad1a-10521f702e9c",
   "metadata": {},
   "source": [
    "We also need to be able to programtically query the neutrino species that the proble flux corresponds to. In general analyses can have any number of multi-species spectra, but for the vast majority of measurements we only want to use one spectra for one probe particle species."
   ]
  },
  {
   "cell_type": "code",
   "execution_count": 9,
   "id": "b8b09ed8-d3eb-4bfb-9369-64ded40ad44d",
   "metadata": {},
   "outputs": [
    {
     "name": "stdout",
     "output_type": "stream",
     "text": [
      "14\n"
     ]
    }
   ],
   "source": [
    "print(probe_part)"
   ]
  },
  {
   "cell_type": "markdown",
   "id": "6d01c95a-e9d7-4db5-9853-344b17630cef",
   "metadata": {},
   "source": [
    "We can see that we need to generate muon neutrino events with the above flux distribution.\n",
    "\n",
    "Next we need to know the target material to generate on. In general the material can be queried as a mass-weighted admixture of elemental components, for most measurements the target is approximated as a single element or a simple element + hydrogen molecule."
   ]
  },
  {
   "cell_type": "code",
   "execution_count": 10,
   "id": "02dcc4cc-8fb4-4458-b58c-07a87b7ef489",
   "metadata": {},
   "outputs": [
    {
     "data": {
      "text/plain": [
       "['{ A = 40, Z = 18, weight_by_mass = 1 }']"
      ]
     },
     "execution_count": 10,
     "metadata": {},
     "output_type": "execute_result"
    }
   ],
   "source": [
    "[ str(tgt) for tgt in ana.get_target() ]"
   ]
  },
  {
   "cell_type": "markdown",
   "id": "21be4eaa-1bcf-45cf-ba1b-9c3bc22a4f42",
   "metadata": {},
   "source": [
    "So now we can generate some events! For this demo I'm going to use a NEUT helper script that exposes simple options along these lines that we can use, in the future analyses will be able to construct generation prompts that can help you generate the right events for a range of generators. Treat in store."
   ]
  },
  {
   "cell_type": "code",
   "execution_count": 11,
   "id": "5fa19d32-56e6-45ab-8291-099150c53c7b",
   "metadata": {},
   "outputs": [
    {
     "name": "stdout",
     "output_type": "stream",
     "text": [
      "  Required options:\n",
      "\t-o|--output <filename.hepmc3>  : Output HepMC3 file\n",
      "\t-n|--nevents <numevents>          : Specify the number of events to process or generate.\n",
      "\n",
      "  Options:\n",
      "\t--neut-card <neut.card>        : NEUT card to specialize\n",
      "\t--neut-param <pname> <val>     : Specify arbitrary NEUT parameters.\n",
      "\t                                 This will override parameters in the base card or set elsewhere \n",
      "\t                                 in this script.\n",
      "\t                                 This can be used more than once.\n",
      "\t-t|--target <C|O|CH|H2O|Fe>       : Specify the target nucleus/molecule.\n",
      "\t-s|--species <nu[mu,e][,b]>       : Specify the neutrino species.\n",
      "\t-f|--flux <file.root><,histname>  : Throw an event rate according to flux * cross section. \n",
      "\t                                 Flux histogram should be binned in GeV.\n",
      "\t--uniform <from> <to>          : Throw a uniform event rate as a function of energy in MeV.\n",
      "\t--mono-E <E>                   : Throw a events with energy E in MeV.\n",
      "\n",
      "\t--verbose                      : Let NEUT say its thing\n",
      "\t--force                        : Continue even if output file already exists\n",
      "\t--debug                        : Copy NEUT card file and intermediate neutvect.root file, if it\n",
      "\t                                 iexists, back to the output directory.\n",
      "\n",
      "\t--help                         : Print this message\n"
     ]
    }
   ],
   "source": [
    "%%bash\n",
    "neut-quickstart --help"
   ]
  },
  {
   "cell_type": "code",
   "execution_count": 12,
   "id": "f440725d-c64e-4455-b424-bcf0217135ec",
   "metadata": {},
   "outputs": [],
   "source": [
    "%%bash\n",
    "# only generate if we haven't already\n",
    "if [ ! -e events_for_inspirehep_2709091v1.hepmc3.gz ]; then\n",
    "    neut-quickstart -t Ar -s numu \\\n",
    "                -f flux_for_inspirehep_2709091v1.root,flux_count \\\n",
    "                -n 500000 \\\n",
    "                -o events_for_inspirehep_2709091v1.hepmc3.gz\n",
    "fi"
   ]
  },
  {
   "cell_type": "markdown",
   "id": "47b9f54f-4c14-459a-abb6-3663e1c1409d",
   "metadata": {},
   "source": [
    "When this is done, we can load up the file"
   ]
  },
  {
   "cell_type": "code",
   "execution_count": 13,
   "id": "5fec7926-9656-4b39-b7ed-53df96964d38",
   "metadata": {},
   "outputs": [],
   "source": [
    "neut_events = pn.EventSource(\"events_for_inspirehep_2709091v1.hepmc3.gz\")\n",
    "if not neut_events:\n",
    "    print(\"Failed to read file\")"
   ]
  },
  {
   "cell_type": "markdown",
   "id": "2385e6e5-941c-4492-81b8-694a4a32e38b",
   "metadata": {},
   "source": [
    "### Building a Prediction\n",
    "\n",
    "There are a few methods for building a prediction, more or less manual. The more manual you go, the more you can intervene in the process to do associated truth studies. If you just want to make some plots or get a GoF between your prediction and the measurement, the most automated approach should serve you well.\n",
    "\n",
    "#### The Automated Way"
   ]
  },
  {
   "cell_type": "code",
   "execution_count": 14,
   "id": "6011d9e7-4551-489e-804a-87e1af5731b1",
   "metadata": {},
   "outputs": [],
   "source": [
    "comparison = ana.process(neut_events)"
   ]
  },
  {
   "cell_type": "code",
   "execution_count": 15,
   "id": "e7fcd84c-1090-4f30-add2-1e2af3a43e99",
   "metadata": {},
   "outputs": [
    {
     "name": "stdout",
     "output_type": "stream",
     "text": [
      "348.0952259712964\n"
     ]
    },
    {
     "data": {
      "text/plain": [
       "[]"
      ]
     },
     "execution_count": 15,
     "metadata": {},
     "output_type": "execute_result"
    },
    {
     "data": {
      "image/png": "[encoded data removed]",
      "text/plain": [
       "<Figure size 640x480 with 1 Axes>"
      ]
     },
     "metadata": {},
     "output_type": "display_data"
    }
   ],
   "source": [
    "comparison.data[0].mpl().data_hist(label=\"MicroBooNE data\")\n",
    "comparison.predictions[0].mpl().hist(histtype=\"step\",label=r\"NEUT Prediction, $\\chi^{2}=$\"f\"{comparison.likelihood():.3}\")\n",
    "print(comparison.likelihood())\n",
    "plt.legend()\n",
    "plt.plot()"
   ]
  },
  {
   "cell_type": "markdown",
   "id": "aa3e3e23-48cb-4e88-8556-8f6c0eaa75e2",
   "metadata": {},
   "source": [
    "##### Double differential"
   ]
  },
  {
   "cell_type": "code",
   "execution_count": 24,
   "id": "9458a454-faa9-4342-97c5-2e08e2b3a6cd",
   "metadata": {},
   "outputs": [],
   "source": [
    "ana2d = hepdata_rec.analysis(\"cross_section-serialdeltapn_deltaalpha3dq\")"
   ]
  },
  {
   "cell_type": "code",
   "execution_count": 25,
   "id": "98c1862b-7c17-4c8f-8960-b2c850be6af3",
   "metadata": {},
   "outputs": [],
   "source": [
    "comparison = ana2d.process(neut_events)"
   ]
  },
  {
   "cell_type": "code",
   "execution_count": 26,
   "id": "3f9d7ed3-cce0-4ad3-8c1a-64152f7974ed",
   "metadata": {},
   "outputs": [
    {
     "name": "stdout",
     "output_type": "stream",
     "text": [
      "0.0009649229235920724\n"
     ]
    },
    {
     "data": {
      "image/png": "[encoded data removed]",
      "text/plain": [
       "<Figure size 800x800 with 4 Axes>"
      ]
     },
     "metadata": {},
     "output_type": "display_data"
    }
   ],
   "source": [
    "import numpy as np\n",
    "\n",
    "d2d = comparison.data[0]\n",
    "p2d = comparison.predictions[0]\n",
    "\n",
    "fig, axes = plt.subplots(2,2, figsize=(8,8))\n",
    "axes = axes.reshape(1,4).squeeze()\n",
    "\n",
    "proj_y_bin_centers = np.array(pn.Binning.get_bin_centers1D(proj_y_bins))\n",
    "\n",
    "for i,y in enumerate(proj_y_bin_centers):\n",
    "    d2d.slice(1,y).mpl().data_hist(label=\"MicroBooNE data\",plot_axis=axes[i])\n",
    "    p2d.slice(1,y).mpl().hist(histtype=\"step\",label=r\"NEUT Prediction, $\\chi^{2}=$\"f\"{comparison.likelihood():.3}\",plot_axis=axes[i])\n",
    "\n",
    "print(comparison.likelihood())\n",
    "plt.legend()\n",
    "plt.show()\n"
   ]
  },
  {
   "cell_type": "markdown",
   "id": "26dd3b2d-aa86-4f39-aa9d-1385c6e327b3",
   "metadata": {},
   "source": [
    "#### The Manual Way\n",
    "\n",
    "The manual way involves getting the selection and projection operators from the analsis and processing the events explicitly, and then applying any scaling explicitly as well."
   ]
  },
  {
   "cell_type": "code",
   "execution_count": null,
   "id": "b2f854da-9c34-46de-8b5a-f41301702413",
   "metadata": {},
   "outputs": [],
   "source": [
    "ins2709091_efg = pn.EventFrameGen(neut_events) \\\n",
    "    .add_int_column(*ana.get_selection())\n",
    "\n",
    "for proj_name, projf in zip(*ana.get_projections()):\n",
    "    ins2709091_efg.add_double_column(proj_name,projf)\n",
    "\n",
    "ef = ins2709091_efg.firstArrow(int(1E6))"
   ]
  },
  {
   "cell_type": "markdown",
   "id": "a7121760-0873-4562-a19e-d6b98f3bbe0a",
   "metadata": {},
   "source": [
    "We now have an Apache Arrow table, with contains columns corresponding to the selection and projection operators from our analysis. An Arrow table is equivalent to a 'dataframe' in data scientist language, and can in fact be manipulated as a pandas/polars dataframe if you're familiar with those packages."
   ]
  },
  {
   "cell_type": "code",
   "execution_count": null,
   "id": "0a12f0c9-186e-4dbf-8d5e-7ac4e45bc4f7",
   "metadata": {},
   "outputs": [],
   "source": [
    "df = ef.to_pandas()\n",
    "df"
   ]
  },
  {
   "cell_type": "code",
   "execution_count": null,
   "id": "988088ee-c5f3-4a87-b557-5d3dc8cefc49",
   "metadata": {},
   "outputs": [],
   "source": [
    "df[df[\"MicroBooNE_CC0Pi_GKI_nu_SelectSignal\"] == 1]"
   ]
  },
  {
   "cell_type": "markdown",
   "id": "91847138-080e-4d5e-944f-3302f4a83d78",
   "metadata": {},
   "source": [
    "We can use the data histogram as a 'blueprint' for a prediction histogram, as below:"
   ]
  },
  {
   "cell_type": "code",
   "execution_count": null,
   "id": "dd8caf3f-1584-4e07-9b94-706e5e29cd94",
   "metadata": {},
   "outputs": [],
   "source": [
    "data = ana.get_data()[0]\n",
    "data.mpl().data_hist()\n",
    "plt.show()\n",
    "\n",
    "mc = data.make_HistFrame()"
   ]
  },
  {
   "cell_type": "markdown",
   "id": "4d77a956-21cb-486a-97b3-342924c809c9",
   "metadata": {},
   "source": [
    "We can then fill the histogram (`HistFrame`) from the table that we made earlier with the slightly clunky `fill_from_Arrow` function family."
   ]
  },
  {
   "cell_type": "code",
   "execution_count": null,
   "id": "e19b29e2-aaad-4208-b8a7-aa5d87a24f3e",
   "metadata": {},
   "outputs": [],
   "source": [
    "mc = data.make_HistFrame()\n",
    "mc.fill_from_Arrow_if(ef,ana.get_selection()[0],ana.get_projections()[0])\n",
    "\n",
    "mc.mpl().hist(histtype=\"step\", errorband_color=\"#0F0\")\n",
    "plt.show()"
   ]
  },
  {
   "cell_type": "markdown",
   "id": "1e32ef34-3912-4f28-9e92-369e8c10ded9",
   "metadata": {},
   "source": [
    "We now have a theory prediction in 'true space'. For this particular measurement we then need to smearing this prediction to the regularized space to compare to the data, which is published in this space."
   ]
  },
  {
   "cell_type": "code",
   "execution_count": null,
   "id": "5bc70031-435d-43b7-84da-a746d4a743f9",
   "metadata": {},
   "outputs": [],
   "source": [
    "plt.imshow(ana.get_smearing_matrix())\n",
    "plt.colorbar()\n",
    "plt.show()"
   ]
  },
  {
   "cell_type": "code",
   "execution_count": null,
   "id": "a44e5584-7e54-403e-810a-6c5cb7ceba8d",
   "metadata": {},
   "outputs": [],
   "source": [
    "smeared = data.make_HistFrame()\n",
    "smeared.sumweights = ana.get_smearing_matrix() @ mc.sumweights"
   ]
  },
  {
   "cell_type": "code",
   "execution_count": null,
   "id": "e69fecf8-ba3d-42dc-bbde-0cfedd57b3d7",
   "metadata": {},
   "outputs": [],
   "source": [
    "mc.mpl().hist(histtype=\"step\",label=\"true\")\n",
    "smeared.mpl().hist(histtype=\"step\",label=\"smeared\")\n",
    "plt.legend()\n",
    "plt.show()"
   ]
  },
  {
   "cell_type": "markdown",
   "id": "0b02e3a7-da38-4fff-85ac-8a971d47232a",
   "metadata": {},
   "source": [
    "The final processing that is required before comparing to the data is scaling to the appropriate cross section units. We can ask the analysis object for the relevant scaling information as below: We get 3 bits of information back: the scaling units, an additional overall weight, and whether we need to divide out the bin widths from the histogram values to make a PDF prediction."
   ]
  },
  {
   "cell_type": "code",
   "execution_count": null,
   "id": "a0685858-c0b4-4706-89f8-285b16e5c80f",
   "metadata": {},
   "outputs": [],
   "source": [
    "str(ana.get_cross_section_scaling())"
   ]
  },
  {
   "cell_type": "markdown",
   "id": "ca26df38-9317-4a60-a00a-71576d2c1624",
   "metadata": {},
   "source": [
    "We can get the overall generator normalization from the `EventSource`. We have to be a bit careful here as usually the `EventSource` only knows the generator normalization after it has run over all of the events at least once. Both the building of the Arrow table and the analysis `process` call above loop over the events, so we can trust the normalisation information at this point.\n",
    "\n",
    "We can pass the unit scaling from the analysis to get the cross section in the correct units:"
   ]
  },
  {
   "cell_type": "code",
   "execution_count": null,
   "id": "dde873a4-b141-43db-91f4-b05aa938acf0",
   "metadata": {},
   "outputs": [],
   "source": [
    "ni = neut_events.norm_info(ana.get_cross_section_scaling().units)\n",
    "print(f\"norm_info: {{ fatx = {ni.fatx}, sumweights = {ni.sumweights} }}\")"
   ]
  },
  {
   "cell_type": "code",
   "execution_count": null,
   "id": "f4e128cf-de45-415e-a254-f1971d04a128",
   "metadata": {},
   "outputs": [],
   "source": [
    "prediction = smeared.finalise(ana.get_cross_section_scaling().divide_by_bin_width)\n",
    "prediction.values = prediction.values * ni.fatx_per_sumweights()"
   ]
  },
  {
   "cell_type": "code",
   "execution_count": null,
   "id": "5c973f62-1f2b-4cd3-ae32-dbee8a76e1a6",
   "metadata": {},
   "outputs": [],
   "source": [
    "prediction.mpl().hist(histtype=\"step\",label=\"NEUT Prediction\")\n",
    "data.mpl().data_hist(label=\"MicroBooNE data\")\n",
    "plt.legend()\n",
    "plt.show()"
   ]
  },
  {
   "cell_type": "markdown",
   "id": "531643b7-d8e0-4a9a-b256-456faf052e58",
   "metadata": {},
   "source": [
    "The very final part of the puzzle is the likelihood, which we can manually calculate with the covariance matrix from the analysis object."
   ]
  },
  {
   "cell_type": "code",
   "execution_count": null,
   "id": "42a31647-f9b5-41e6-9ac7-525931a4c5ef",
   "metadata": {},
   "outputs": [],
   "source": [
    "plt.imshow(ana.get_covariance_matrix())\n",
    "plt.colorbar()\n",
    "plt.show()"
   ]
  },
  {
   "cell_type": "code",
   "execution_count": null,
   "id": "98c11186-a93a-4d50-8c2c-332d04c2828f",
   "metadata": {},
   "outputs": [],
   "source": [
    "pred_minus_data = (prediction.values - data.values)\n",
    "chi2 = pred_minus_data.T @ ana.get_covariance_matrix() @ pred_minus_data\n",
    "print(chi2)"
   ]
  },
  {
   "cell_type": "markdown",
   "id": "07a081db-e4af-483c-a62a-8c7d8c656f77",
   "metadata": {},
   "source": [
    "which matches what we calculated from the automated comparison earlier!"
   ]
  }
 ],
 "metadata": {
  "kernelspec": {
   "display_name": "Python 3 (ipykernel)",
   "language": "python",
   "name": "python3"
  },
  "language_info": {
   "codemirror_mode": {
    "name": "ipython",
    "version": 3
   },
   "file_extension": ".py",
   "mimetype": "text/x-python",
   "name": "python",
   "nbconvert_exporter": "python",
   "pygments_lexer": "ipython3",
   "version": "3.9.18"
  }
 },
 "nbformat": 4,
 "nbformat_minor": 5
}
